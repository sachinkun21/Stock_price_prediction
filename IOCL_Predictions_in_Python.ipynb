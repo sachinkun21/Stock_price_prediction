{
  "nbformat": 4,
  "nbformat_minor": 0,
  "metadata": {
    "colab": {
      "name": "IOCL Predictions in Python.ipynb",
      "provenance": [],
      "collapsed_sections": [],
      "authorship_tag": "ABX9TyM8thAWV3R0d3OfRiAm9L/A",
      "include_colab_link": true
    },
    "kernelspec": {
      "name": "python3",
      "display_name": "Python 3"
    }
  },
  "cells": [
    {
      "cell_type": "markdown",
      "metadata": {
        "id": "view-in-github",
        "colab_type": "text"
      },
      "source": [
        "<a href=\"https://colab.research.google.com/github/sachinkun21/Stock_price_prediction/blob/master/IOCL_Predictions_in_Python.ipynb\" target=\"_parent\"><img src=\"https://colab.research.google.com/assets/colab-badge.svg\" alt=\"Open In Colab\"/></a>"
      ]
    },
    {
      "cell_type": "markdown",
      "metadata": {
        "id": "pnBmuQrWq9IN",
        "colab_type": "text"
      },
      "source": [
        "## **Covering Long Short-Term Memory (LSTM) networks in Python and how we can use them to make predictions!**\n",
        "\n",
        "In this tutorial, you will see how we can use a time-series model known as Long Short-Term Memory. LSTM models are powerful, especially for retaining a long-term memory, by design, as you will see later. You'll tackle the following topics in this tutorial:\n",
        "- Understand why would you need to be able to predict stock price movements;\n",
        "- Download the data - You will be using stock market data gathered from Yahoo finance;\n",
        "- Split train-test data and also perform some data normalization;\n",
        "- Go over and apply a few averaging techniques that can be used for one-step ahead predictions;\n",
        "- Motivate and briefly discuss an LSTM model as it allows to predict more than one-step ahead;\n",
        "- Predict and visualize future stock market with current data.\n",
        "\n",
        "The only pre-requisite to this tutorial is that you have a basic understanding of Deep Learning implemnetation using python.\n",
        "\n",
        "Let's Start!!!"
      ]
    },
    {
      "cell_type": "markdown",
      "metadata": {
        "id": "4iG2hy3yrfhv",
        "colab_type": "text"
      },
      "source": [
        "### **Why Do You Need Time Series Models?**\n",
        "You would like to model stock prices correctly, so as a stock buyer you can reasonably decide when to buy stocks and when to sell them to make a profit. \n",
        "\n",
        "This is where time series modelling comes in. You need a robust model that can look at the history of a sequence of data and correctly predict what the future elements of the sequence are going to be.\n",
        "\n",
        "Using machine learning techniques, we will try to achieve this, develop and test the model in the upcoming sections.\n",
        "\n",
        "Warning: Stock market prices are highly unpredictable and volatile. This means that there are no consistent patterns in the data that allow you to model stock prices over time near-perfectly. Don't take it from me, take it from Princeton University economist Burton Malkiel, who argues in his 1973 book, \"A Random Walk Down Wall Street,\" that if the market is truly efficient and a share price reflects all factors immediately as soon as they're made public, a blindfolded monkey throwing darts at a newspaper stock listing should do as well as any investment professional.\n",
        "\n",
        "However, let's not go all the way believing that this is just a stochastic or random process and that there is no hope for machine learning. Let's see if you can at least model the data, so that the predictions you make correlate with the actual behavior of the data. In other words, you don't need the exact stock values of the future, but the stock price movements (that is, if it is going to rise of fall in the near future)"
      ]
    },
    {
      "cell_type": "markdown",
      "metadata": {
        "id": "QdCCgMjXtW8T",
        "colab_type": "text"
      },
      "source": [
        "**Importing libraries**"
      ]
    },
    {
      "cell_type": "code",
      "metadata": {
        "id": "rooWxotBtARv",
        "colab_type": "code",
        "colab": {
          "base_uri": "https://localhost:8080/",
          "height": 63
        },
        "outputId": "8d8c7d03-3d01-4ea5-e8ab-168bb5511524"
      },
      "source": [
        "# Make sure that you have all these libaries available to run the code successfully\n",
        "\n",
        "from pandas_datareader import data\n",
        "import matplotlib.pyplot as plt\n",
        "import pandas as pd\n",
        "import datetime as dt\n",
        "import urllib.request, json\n",
        "import os\n",
        "import numpy as np\n",
        "import tensorflow as tf # This code has been tested with TensorFlow 1.6\n",
        "from sklearn.preprocessing import MinMaxScaler\n"
      ],
      "execution_count": 1,
      "outputs": [
        {
          "output_type": "display_data",
          "data": {
            "text/html": [
              "<p style=\"color: red;\">\n",
              "The default version of TensorFlow in Colab will soon switch to TensorFlow 2.x.<br>\n",
              "We recommend you <a href=\"https://www.tensorflow.org/guide/migrate\" target=\"_blank\">upgrade</a> now \n",
              "or ensure your notebook will continue to use TensorFlow 1.x via the <code>%tensorflow_version 1.x</code> magic:\n",
              "<a href=\"https://colab.research.google.com/notebooks/tensorflow_version.ipynb\" target=\"_blank\">more info</a>.</p>\n"
            ],
            "text/plain": [
              "<IPython.core.display.HTML object>"
            ]
          },
          "metadata": {
            "tags": []
          }
        }
      ]
    },
    {
      "cell_type": "markdown",
      "metadata": {
        "id": "xgD-Nzj1zlTd",
        "colab_type": "text"
      },
      "source": [
        "### **Downloading the Data**\n",
        "You will be using data from the following sources:\n",
        "\n",
        "1. **Alpha Vantage:** Before you start, however, you will first need an API key, which you can obtain for free [here](https://www.alphavantage.co/support/#api-key). After that, you can assign that key to the api_key variable.\n",
        "\n",
        "2. **Kaggle:** Download the kaggle data from this [page](https://www.kaggle.com/borismarjanovic/price-volume-data-for-all-us-stocks-etfs). You will need to copy the Stocks folder in the zip file of your project home folder."
      ]
    },
    {
      "cell_type": "code",
      "metadata": {
        "id": "nW6-eVbKtdzm",
        "colab_type": "code",
        "colab": {}
      },
      "source": [
        "# Please change this with your own api key\n",
        "my_key = '4TZ6V9EQSE010E4M'"
      ],
      "execution_count": 0,
      "outputs": []
    },
    {
      "cell_type": "markdown",
      "metadata": {
        "id": "Bdodj1Tw0iKh",
        "colab_type": "text"
      },
      "source": [
        "Before we go ahead and start downloading the Stock prices data, you need to know that stock prices data usually come in several following categories:\n",
        "\n",
        "- Open: Opening stock price of the day\n",
        "- Close: Closing stock price of the day\n",
        "- High: Highest stock price of the data\n",
        "- Low: Lowest stock price of the day\n"
      ]
    },
    {
      "cell_type": "markdown",
      "metadata": {
        "id": "W54frQP306l-",
        "colab_type": "text"
      },
      "source": [
        "**1. Getting Data from Alphavantage**\n",
        "\n",
        "You will first load in the data from Alpha Vantage. \n",
        "1. Since you're going to make use of the American Airlines Stock market prices to make your predictions, you set the ticker to \"AAL\".\n",
        "2. Additionally, you also define a url_string, which will return a JSON file with all the stock market data for American Airlines within the last 20 years, and a file_to_save, which will be the file to which you save the data.\n",
        "3. You'll use the ticker variable that you defined beforehand to help name this file.\n",
        "\n",
        "Next, you're going to specify a condition: if you haven't already saved data, you will go ahead and grab the data from the URL that you set in url_string; You'll store the date, low, high, volume, close, open values to a pandas DataFrame df and you'll save it to file_to_save. However, if the data is already there, you'll just load it from the CSV."
      ]
    },
    {
      "cell_type": "markdown",
      "metadata": {
        "id": "8VI5ROkF14pO",
        "colab_type": "text"
      },
      "source": [
        "**2. Getting Data from Kaggle**\n",
        "\n",
        "Data found on Kaggle is a collection of processed csv files and you don't have to do any preprocessing from you end, so you can directly load the data into a Pandas DataFrame and use it.\n",
        "\n"
      ]
    },
    {
      "cell_type": "code",
      "metadata": {
        "id": "AYcafpFL2gyQ",
        "colab_type": "code",
        "colab": {
          "base_uri": "https://localhost:8080/",
          "height": 233
        },
        "outputId": "c0ada866-001e-4929-8063-a3514f9d3039"
      },
      "source": [
        "def download_data(data_source='kaggle', ticker= 'AAL'):\n",
        "  \n",
        "    if data_source=='AlphaVanatage':\n",
        "\n",
        "          # ====================== Loading Data from Alpha Vantage ==================================\n",
        "          api_key = my_key\n",
        "\n",
        "          # JSON file with all the stock market data for AAL from the last 20 years\n",
        "          url_string = \"https://www.alphavantage.co/query?function=TIME_SERIES_DAILY&symbol=%s&outputsize=full&apikey=%s\"%(ticker,api_key)\n",
        "\n",
        "          # file to Save the data\n",
        "          file_to_save = 'stock_market_data-%s.csv'%ticker\n",
        "          \n",
        "          # If you haven't already saved data,\n",
        "          if not os.path.exists(file_to_save):\n",
        "\n",
        "              print(\"Downloading data from AphaVantage......\")\n",
        "              # Go ahead and grab the data from the url\n",
        "              with urllib.request.urlopen(url_string) as url:\n",
        "                    data = json.loads(url.read().decode())\n",
        "\n",
        "                    # Extracting daily time series data of stock into a dictionary with keys as DateTime and values as resepective stock price\n",
        "                    data = data['Time Series (Daily)']     \n",
        "\n",
        "                    # Create empty dataframe to store Data\n",
        "                    stock_df = pd.DataFrame(columns=['Date','Low','High','Open', 'Close'])\n",
        "\n",
        "                    # And storing date, low, high, volume, close, open values from dictionary to a Pandas DataFrame\n",
        "                    for k,v in data.items():\n",
        "                          # Extracting and Converting date into suitable date time format\n",
        "                          \n",
        "                          key = dt.datetime.strptime(k, '%Y-%m-%d')\n",
        "                          # and stock values\n",
        "                          values = [key,float(v['3. low']),float(v['2. high']),float(v['1. open']), float(v['4. close'])]\n",
        "\n",
        "                          # print(key,values)\n",
        "\n",
        "                          # Storing the data values in our empty dataframe one by one \n",
        "                          stock_df = stock_df.append({ 'Date': values[0], 'Low':values[1], 'High':values[2], 'Open':values[3], 'Close': values[4] }, ignore_index= True )\n",
        "\n",
        "                    print('Data saved to : %s'%file_to_save) \n",
        "                    stock_df.to_csv(file_to_save) \n",
        "\n",
        "          \n",
        "          \n",
        "          # If the data is already there, just load it from the CSV\n",
        "          else:\n",
        "              print('File already exists. Loading data from CSV')\n",
        "              stock_df = pd.read_csv(file_to_save)\n",
        "    \n",
        "\n",
        "  \n",
        "\n",
        "    elif data_source=='Kaggle':\n",
        "\n",
        "        # ====================== Loading Data from Kaggle ==================================  \n",
        "        # You will be using HP's data. Feel free to experiment with other data.\n",
        "        stock_df = pd.read_csv(os.path.join('Stocks','hpq.us.txt'),delimiter=',',usecols=['Date','Open','High','Low','Close'])\n",
        "        # But while doing so, be careful to have a large enough dataset and also pay attention to the data normalization\n",
        "        print('Loaded data from the Kaggle repository')\n",
        "\n",
        "      \n",
        "\n",
        "    \n",
        "    else:\n",
        "        print(\"Invalid Data Source\")\n",
        "    \n",
        "    \n",
        "    return stock_df\n",
        "\n",
        "\n",
        "\n",
        "# ;et's Call the function and store the dataframe\n",
        "stock_df = download_data(data_source='AlphaVanatage', ticker= 'AAL')\n"
      ],
      "execution_count": 3,
      "outputs": [
        {
          "output_type": "stream",
          "text": [
            "Downloading data from AphaVantage......\n",
            "Data saved to : stock_market_data-AAL.csv\n"
          ],
          "name": "stdout"
        },
        {
          "output_type": "execute_result",
          "data": {
            "text/html": [
              "<div>\n",
              "<style scoped>\n",
              "    .dataframe tbody tr th:only-of-type {\n",
              "        vertical-align: middle;\n",
              "    }\n",
              "\n",
              "    .dataframe tbody tr th {\n",
              "        vertical-align: top;\n",
              "    }\n",
              "\n",
              "    .dataframe thead th {\n",
              "        text-align: right;\n",
              "    }\n",
              "</style>\n",
              "<table border=\"1\" class=\"dataframe\">\n",
              "  <thead>\n",
              "    <tr style=\"text-align: right;\">\n",
              "      <th></th>\n",
              "      <th>Date</th>\n",
              "      <th>Low</th>\n",
              "      <th>High</th>\n",
              "      <th>Open</th>\n",
              "      <th>Close</th>\n",
              "    </tr>\n",
              "  </thead>\n",
              "  <tbody>\n",
              "    <tr>\n",
              "      <th>0</th>\n",
              "      <td>2020-01-28</td>\n",
              "      <td>26.26</td>\n",
              "      <td>27.1150</td>\n",
              "      <td>26.36</td>\n",
              "      <td>26.90</td>\n",
              "    </tr>\n",
              "    <tr>\n",
              "      <th>1</th>\n",
              "      <td>2020-01-27</td>\n",
              "      <td>25.37</td>\n",
              "      <td>26.6000</td>\n",
              "      <td>26.57</td>\n",
              "      <td>26.11</td>\n",
              "    </tr>\n",
              "    <tr>\n",
              "      <th>2</th>\n",
              "      <td>2020-01-24</td>\n",
              "      <td>27.01</td>\n",
              "      <td>28.8612</td>\n",
              "      <td>28.85</td>\n",
              "      <td>27.64</td>\n",
              "    </tr>\n",
              "    <tr>\n",
              "      <th>3</th>\n",
              "      <td>2020-01-23</td>\n",
              "      <td>26.04</td>\n",
              "      <td>28.9900</td>\n",
              "      <td>27.39</td>\n",
              "      <td>28.80</td>\n",
              "    </tr>\n",
              "    <tr>\n",
              "      <th>4</th>\n",
              "      <td>2020-01-22</td>\n",
              "      <td>27.30</td>\n",
              "      <td>27.9100</td>\n",
              "      <td>27.51</td>\n",
              "      <td>27.32</td>\n",
              "    </tr>\n",
              "  </tbody>\n",
              "</table>\n",
              "</div>"
            ],
            "text/plain": [
              "        Date    Low     High   Open  Close\n",
              "0 2020-01-28  26.26  27.1150  26.36  26.90\n",
              "1 2020-01-27  25.37  26.6000  26.57  26.11\n",
              "2 2020-01-24  27.01  28.8612  28.85  27.64\n",
              "3 2020-01-23  26.04  28.9900  27.39  28.80\n",
              "4 2020-01-22  27.30  27.9100  27.51  27.32"
            ]
          },
          "metadata": {
            "tags": []
          },
          "execution_count": 3
        }
      ]
    },
    {
      "cell_type": "markdown",
      "metadata": {
        "id": "mH4w_V64433N",
        "colab_type": "text"
      },
      "source": [
        "### **Data Exploration**\n",
        "Here you will print the data you collected in to the DataFrame. You should also make sure that the data is sorted by date, because the order of the data is crucial in time series modelling."
      ]
    },
    {
      "cell_type": "code",
      "metadata": {
        "id": "id_ZQhXIIacj",
        "colab_type": "code",
        "colab": {
          "base_uri": "https://localhost:8080/",
          "height": 197
        },
        "outputId": "45201fc4-49c2-4eef-e090-f18ce7694f05"
      },
      "source": [
        "# printing top 5 rows of dataframe\n",
        "stock_df.head()"
      ],
      "execution_count": 8,
      "outputs": [
        {
          "output_type": "execute_result",
          "data": {
            "text/html": [
              "<div>\n",
              "<style scoped>\n",
              "    .dataframe tbody tr th:only-of-type {\n",
              "        vertical-align: middle;\n",
              "    }\n",
              "\n",
              "    .dataframe tbody tr th {\n",
              "        vertical-align: top;\n",
              "    }\n",
              "\n",
              "    .dataframe thead th {\n",
              "        text-align: right;\n",
              "    }\n",
              "</style>\n",
              "<table border=\"1\" class=\"dataframe\">\n",
              "  <thead>\n",
              "    <tr style=\"text-align: right;\">\n",
              "      <th></th>\n",
              "      <th>Date</th>\n",
              "      <th>Low</th>\n",
              "      <th>High</th>\n",
              "      <th>Open</th>\n",
              "      <th>Close</th>\n",
              "    </tr>\n",
              "  </thead>\n",
              "  <tbody>\n",
              "    <tr>\n",
              "      <th>0</th>\n",
              "      <td>2005-09-27</td>\n",
              "      <td>19.10</td>\n",
              "      <td>21.40</td>\n",
              "      <td>21.05</td>\n",
              "      <td>19.30</td>\n",
              "    </tr>\n",
              "    <tr>\n",
              "      <th>1</th>\n",
              "      <td>2005-09-28</td>\n",
              "      <td>19.20</td>\n",
              "      <td>20.53</td>\n",
              "      <td>19.30</td>\n",
              "      <td>20.50</td>\n",
              "    </tr>\n",
              "    <tr>\n",
              "      <th>2</th>\n",
              "      <td>2005-09-29</td>\n",
              "      <td>20.10</td>\n",
              "      <td>20.58</td>\n",
              "      <td>20.40</td>\n",
              "      <td>20.21</td>\n",
              "    </tr>\n",
              "    <tr>\n",
              "      <th>3</th>\n",
              "      <td>2005-09-30</td>\n",
              "      <td>20.18</td>\n",
              "      <td>21.05</td>\n",
              "      <td>20.26</td>\n",
              "      <td>21.01</td>\n",
              "    </tr>\n",
              "    <tr>\n",
              "      <th>4</th>\n",
              "      <td>2005-10-03</td>\n",
              "      <td>20.90</td>\n",
              "      <td>21.75</td>\n",
              "      <td>20.90</td>\n",
              "      <td>21.50</td>\n",
              "    </tr>\n",
              "  </tbody>\n",
              "</table>\n",
              "</div>"
            ],
            "text/plain": [
              "        Date    Low   High   Open  Close\n",
              "0 2005-09-27  19.10  21.40  21.05  19.30\n",
              "1 2005-09-28  19.20  20.53  19.30  20.50\n",
              "2 2005-09-29  20.10  20.58  20.40  20.21\n",
              "3 2005-09-30  20.18  21.05  20.26  21.01\n",
              "4 2005-10-03  20.90  21.75  20.90  21.50"
            ]
          },
          "metadata": {
            "tags": []
          },
          "execution_count": 8
        }
      ]
    },
    {
      "cell_type": "code",
      "metadata": {
        "id": "gTDwxt9jG0d-",
        "colab_type": "code",
        "colab": {
          "base_uri": "https://localhost:8080/",
          "height": 194
        },
        "outputId": "cfd48570-ed4b-46b3-fa90-7bc2522cfcf3"
      },
      "source": [
        "# Printing column info\n",
        "stock_df.info()"
      ],
      "execution_count": 5,
      "outputs": [
        {
          "output_type": "stream",
          "text": [
            "<class 'pandas.core.frame.DataFrame'>\n",
            "RangeIndex: 3608 entries, 0 to 3607\n",
            "Data columns (total 5 columns):\n",
            "Date     3608 non-null datetime64[ns]\n",
            "Low      3608 non-null float64\n",
            "High     3608 non-null float64\n",
            "Open     3608 non-null float64\n",
            "Close    3608 non-null float64\n",
            "dtypes: datetime64[ns](1), float64(4)\n",
            "memory usage: 141.1 KB\n"
          ],
          "name": "stdout"
        }
      ]
    },
    {
      "cell_type": "code",
      "metadata": {
        "id": "CO63p_TM44bD",
        "colab_type": "code",
        "colab": {
          "base_uri": "https://localhost:8080/",
          "height": 197
        },
        "outputId": "5d32e7af-c6f9-4af1-f652-6df470fd482c"
      },
      "source": [
        "# Sort DataFrame by date and reset index\n",
        "stock_df = stock_df.sort_values('Date').reset_index(drop= True)\n",
        "\n",
        "# Reprinting the df to check\n",
        "stock_df.head()"
      ],
      "execution_count": 6,
      "outputs": [
        {
          "output_type": "execute_result",
          "data": {
            "text/html": [
              "<div>\n",
              "<style scoped>\n",
              "    .dataframe tbody tr th:only-of-type {\n",
              "        vertical-align: middle;\n",
              "    }\n",
              "\n",
              "    .dataframe tbody tr th {\n",
              "        vertical-align: top;\n",
              "    }\n",
              "\n",
              "    .dataframe thead th {\n",
              "        text-align: right;\n",
              "    }\n",
              "</style>\n",
              "<table border=\"1\" class=\"dataframe\">\n",
              "  <thead>\n",
              "    <tr style=\"text-align: right;\">\n",
              "      <th></th>\n",
              "      <th>Date</th>\n",
              "      <th>Low</th>\n",
              "      <th>High</th>\n",
              "      <th>Open</th>\n",
              "      <th>Close</th>\n",
              "    </tr>\n",
              "  </thead>\n",
              "  <tbody>\n",
              "    <tr>\n",
              "      <th>0</th>\n",
              "      <td>2005-09-27</td>\n",
              "      <td>19.10</td>\n",
              "      <td>21.40</td>\n",
              "      <td>21.05</td>\n",
              "      <td>19.30</td>\n",
              "    </tr>\n",
              "    <tr>\n",
              "      <th>1</th>\n",
              "      <td>2005-09-28</td>\n",
              "      <td>19.20</td>\n",
              "      <td>20.53</td>\n",
              "      <td>19.30</td>\n",
              "      <td>20.50</td>\n",
              "    </tr>\n",
              "    <tr>\n",
              "      <th>2</th>\n",
              "      <td>2005-09-29</td>\n",
              "      <td>20.10</td>\n",
              "      <td>20.58</td>\n",
              "      <td>20.40</td>\n",
              "      <td>20.21</td>\n",
              "    </tr>\n",
              "    <tr>\n",
              "      <th>3</th>\n",
              "      <td>2005-09-30</td>\n",
              "      <td>20.18</td>\n",
              "      <td>21.05</td>\n",
              "      <td>20.26</td>\n",
              "      <td>21.01</td>\n",
              "    </tr>\n",
              "    <tr>\n",
              "      <th>4</th>\n",
              "      <td>2005-10-03</td>\n",
              "      <td>20.90</td>\n",
              "      <td>21.75</td>\n",
              "      <td>20.90</td>\n",
              "      <td>21.50</td>\n",
              "    </tr>\n",
              "  </tbody>\n",
              "</table>\n",
              "</div>"
            ],
            "text/plain": [
              "        Date    Low   High   Open  Close\n",
              "0 2005-09-27  19.10  21.40  21.05  19.30\n",
              "1 2005-09-28  19.20  20.53  19.30  20.50\n",
              "2 2005-09-29  20.10  20.58  20.40  20.21\n",
              "3 2005-09-30  20.18  21.05  20.26  21.01\n",
              "4 2005-10-03  20.90  21.75  20.90  21.50"
            ]
          },
          "metadata": {
            "tags": []
          },
          "execution_count": 6
        }
      ]
    },
    {
      "cell_type": "markdown",
      "metadata": {
        "id": "lXbBocCfI1jX",
        "colab_type": "text"
      },
      "source": [
        "DF Looks alright. Let's move ahead to next section"
      ]
    },
    {
      "cell_type": "markdown",
      "metadata": {
        "id": "yF88KFQJ_J1R",
        "colab_type": "text"
      },
      "source": [
        "### **Data Visualization**\n",
        "Now let's see what sort of data you have. You want data with various patterns occurring over time."
      ]
    },
    {
      "cell_type": "code",
      "metadata": {
        "id": "9ZBwb5b-HR5n",
        "colab_type": "code",
        "colab": {
          "base_uri": "https://localhost:8080/",
          "height": 596
        },
        "outputId": "18e98f9a-f37a-4c60-82bd-1b58cd1f47fa"
      },
      "source": [
        "plt.figure(figsize = (26,9))\n",
        "plt.plot(range(stock_df.shape[0]),(stock_df['Low']+stock_df['High'])/2.0)\n",
        "plt.xticks(range(0,stock_df.shape[0],200),[i.date() for i in stock_df['Date'].loc[::200]],rotation=45)\n",
        "plt.xlabel('Date',fontsize=18)\n",
        "plt.ylabel('Mid Price',fontsize=18)\n",
        "plt.show()"
      ],
      "execution_count": 16,
      "outputs": [
        {
          "output_type": "display_data",
          "data": {
            "image/png": "[encoded data removed]",
            "text/plain": [
              "<Figure size 1872x648 with 1 Axes>"
            ]
          },
          "metadata": {
            "tags": []
          }
        }
      ]
    },
    {
      "cell_type": "markdown",
      "metadata": {
        "id": "KHHB2CXYKdTJ",
        "colab_type": "text"
      },
      "source": [
        "You can see the behaviour of stock prices of this company from the above time series Graph.\n",
        " \n",
        " \n",
        "The specific reason I picked this company over others is that the stocks for this company are shwoing different behaviors over different intervals of time. This will make the learning more robust as well as give you a change to test how good the model predictions are for different kind of situations.\n",
        "\n",
        "Another thing to notice is that the values close to 2015-2018 are much higher and fluctuate more than the values close to the 2008-2012 indicating the Global Slowdown period. \n",
        "\n",
        "Therefore you need to make sure that the data behaves in similar value ranges throughout the time frame. You will take care of this during the data normalization phase."
      ]
    },
    {
      "cell_type": "markdown",
      "metadata": {
        "id": "XHeoLEEcLQ8_",
        "colab_type": "text"
      },
      "source": [
        "### **Splitting Data into a Training set and a Test set**\n",
        "You will use the mid price calculated by taking the average of the highest and lowest recorded prices on a day."
      ]
    },
    {
      "cell_type": "code",
      "metadata": {
        "id": "btm4uHTRMSJ6",
        "colab_type": "code",
        "colab": {}
      },
      "source": [
        "# First calculate the mid prices from the highest and lowest\n",
        "high_prices = stock_df.loc[:,'High'].values\n",
        "low_prices = stock_df.loc[:,'Low'].values\n",
        "mid_prices = (high_prices+low_prices)/2.0"
      ],
      "execution_count": 0,
      "outputs": []
    },
    {
      "cell_type": "markdown",
      "metadata": {
        "id": "MKFAx1_dMgqc",
        "colab_type": "text"
      },
      "source": [
        "Now you can split the training data and test data. The training data will be the first 11,000 data points of the time series and rest will be test data"
      ]
    },
    {
      "cell_type": "code",
      "metadata": {
        "id": "cKnKItCxMwec",
        "colab_type": "code",
        "colab": {}
      },
      "source": [
        "train_data = mid_prices[:11000]\n",
        "test_data = mid_prices[11000:]"
      ],
      "execution_count": 0,
      "outputs": []
    },
    {
      "cell_type": "markdown",
      "metadata": {
        "id": "j-8O3uvfM77T",
        "colab_type": "text"
      },
      "source": [
        "### **Normalizing the Data**\n",
        "Now you need to define a scaler to normalize the data. MinMaxScalar scales all the data to be in the region of 0 and 1. You can also reshape the training and test data to be in the shape [data_size, num_features]"
      ]
    },
    {
      "cell_type": "code",
      "metadata": {
        "id": "Vhuec91MNBJb",
        "colab_type": "code",
        "colab": {}
      },
      "source": [
        ""
      ],
      "execution_count": 0,
      "outputs": []
    }
  ]
}
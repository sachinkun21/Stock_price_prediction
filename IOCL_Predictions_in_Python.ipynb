{
  "nbformat": 4,
  "nbformat_minor": 0,
  "metadata": {
    "colab": {
      "name": "IOCL Predictions in Python.ipynb",
      "provenance": [],
      "authorship_tag": "ABX9TyOm9WbsqZkRIXS1L1Cf5+3a",
      "include_colab_link": true
    },
    "kernelspec": {
      "name": "python3",
      "display_name": "Python 3"
    }
  },
  "cells": [
    {
      "cell_type": "markdown",
      "metadata": {
        "id": "view-in-github",
        "colab_type": "text"
      },
      "source": [
        "<a href=\"https://colab.research.google.com/github/sachinkun21/Stock_price_prediction/blob/master/IOCL_Predictions_in_Python.ipynb\" target=\"_parent\"><img src=\"https://colab.research.google.com/assets/colab-badge.svg\" alt=\"Open In Colab\"/></a>"
      ]
    },
    {
      "cell_type": "markdown",
      "metadata": {
        "id": "pnBmuQrWq9IN",
        "colab_type": "text"
      },
      "source": [
        "## **Covering Long Short-Term Memory (LSTM) networks in Python and how we can use them to make predictions!**\n",
        "\n",
        "In this tutorial, you will see how we can use a time-series model known as Long Short-Term Memory. LSTM models are powerful, especially for retaining a long-term memory, by design, as you will see later. You'll tackle the following topics in this tutorial:\n",
        "- Understand why would you need to be able to predict stock price movements;\n",
        "- Download the data - You will be using stock market data gathered from Yahoo finance;\n",
        "- Split train-test data and also perform some data normalization;\n",
        "- Go over and apply a few averaging techniques that can be used for one-step ahead predictions;\n",
        "- Motivate and briefly discuss an LSTM model as it allows to predict more than one-step ahead;\n",
        "- Predict and visualize future stock market with current data.\n",
        "\n",
        "The only pre-requisite to this tutorial is that you have a basic understanding of Deep Learning implemnetation using python.\n",
        "\n",
        "Let's Start!!!"
      ]
    },
    {
      "cell_type": "markdown",
      "metadata": {
        "id": "4iG2hy3yrfhv",
        "colab_type": "text"
      },
      "source": [
        "### **Why Do You Need Time Series Models?**\n",
        "You would like to model stock prices correctly, so as a stock buyer you can reasonably decide when to buy stocks and when to sell them to make a profit. \n",
        "\n",
        "This is where time series modelling comes in. You need a robust model that can look at the history of a sequence of data and correctly predict what the future elements of the sequence are going to be.\n",
        "\n",
        "Using machine learning techniques, we will try to achieve this, develop and test the model in the upcoming sections.\n",
        "\n",
        "Warning: Stock market prices are highly unpredictable and volatile. This means that there are no consistent patterns in the data that allow you to model stock prices over time near-perfectly. Don't take it from me, take it from Princeton University economist Burton Malkiel, who argues in his 1973 book, \"A Random Walk Down Wall Street,\" that if the market is truly efficient and a share price reflects all factors immediately as soon as they're made public, a blindfolded monkey throwing darts at a newspaper stock listing should do as well as any investment professional.\n",
        "\n",
        "However, let's not go all the way believing that this is just a stochastic or random process and that there is no hope for machine learning. Let's see if you can at least model the data, so that the predictions you make correlate with the actual behavior of the data. In other words, you don't need the exact stock values of the future, but the stock price movements (that is, if it is going to rise of fall in the near future)"
      ]
    },
    {
      "cell_type": "markdown",
      "metadata": {
        "id": "QdCCgMjXtW8T",
        "colab_type": "text"
      },
      "source": [
        "**Importing libraries**"
      ]
    },
    {
      "cell_type": "code",
      "metadata": {
        "id": "rooWxotBtARv",
        "colab_type": "code",
        "colab": {
          "base_uri": "https://localhost:8080/",
          "height": 63
        },
        "outputId": "36aed08a-f56d-4de3-9e9a-fc3d5681d9ee"
      },
      "source": [
        "# Make sure that you have all these libaries available to run the code successfully\n",
        "\n",
        "from pandas_datareader import data\n",
        "import matplotlib.pyplot as plt\n",
        "import pandas as pd\n",
        "import datetime as dt\n",
        "import urllib.request, json\n",
        "import os\n",
        "import numpy as np\n",
        "import tensorflow as tf # This code has been tested with TensorFlow 1.6\n",
        "from sklearn.preprocessing import MinMaxScaler"
      ],
      "execution_count": 1,
      "outputs": [
        {
          "output_type": "display_data",
          "data": {
            "text/html": [
              "<p style=\"color: red;\">\n",
              "The default version of TensorFlow in Colab will soon switch to TensorFlow 2.x.<br>\n",
              "We recommend you <a href=\"https://www.tensorflow.org/guide/migrate\" target=\"_blank\">upgrade</a> now \n",
              "or ensure your notebook will continue to use TensorFlow 1.x via the <code>%tensorflow_version 1.x</code> magic:\n",
              "<a href=\"https://colab.research.google.com/notebooks/tensorflow_version.ipynb\" target=\"_blank\">more info</a>.</p>\n"
            ],
            "text/plain": [
              "<IPython.core.display.HTML object>"
            ]
          },
          "metadata": {
            "tags": []
          }
        }
      ]
    },
    {
      "cell_type": "code",
      "metadata": {
        "id": "nW6-eVbKtdzm",
        "colab_type": "code",
        "colab": {}
      },
      "source": [
        ""
      ],
      "execution_count": 0,
      "outputs": []
    }
  ]
}
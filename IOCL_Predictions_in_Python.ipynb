{
  "nbformat": 4,
  "nbformat_minor": 0,
  "metadata": {
    "colab": {
      "name": "IOCL Predictions in Python.ipynb",
      "provenance": [],
      "collapsed_sections": [],
      "authorship_tag": "ABX9TyODXgIWvG0hEz9cPHU44GAX",
      "include_colab_link": true
    },
    "kernelspec": {
      "name": "python3",
      "display_name": "Python 3"
    }
  },
  "cells": [
    {
      "cell_type": "markdown",
      "metadata": {
        "id": "view-in-github",
        "colab_type": "text"
      },
      "source": [
        "<a href=\"https://colab.research.google.com/github/sachinkun21/Stock_price_prediction/blob/master/IOCL_Predictions_in_Python.ipynb\" target=\"_parent\"><img src=\"https://colab.research.google.com/assets/colab-badge.svg\" alt=\"Open In Colab\"/></a>"
      ]
    },
    {
      "cell_type": "markdown",
      "metadata": {
        "id": "pnBmuQrWq9IN",
        "colab_type": "text"
      },
      "source": [
        "## **Covering Long Short-Term Memory (LSTM) networks in Python and how we can use them to make predictions!**\n",
        "\n",
        "In this tutorial, you will see how we can use a time-series model known as Long Short-Term Memory. LSTM models are powerful, especially for retaining a long-term memory, by design, as you will see later. You'll tackle the following topics in this tutorial:\n",
        "- Understand why would you need to be able to predict stock price movements;\n",
        "- Download the data - You will be using stock market data gathered from Yahoo finance;\n",
        "- Split train-test data and also perform some data normalization;\n",
        "- Go over and apply a few averaging techniques that can be used for one-step ahead predictions;\n",
        "- Motivate and briefly discuss an LSTM model as it allows to predict more than one-step ahead;\n",
        "- Predict and visualize future stock market with current data.\n",
        "\n",
        "The only pre-requisite to this tutorial is that you have a basic understanding of Deep Learning implemnetation using python.\n",
        "\n",
        "Let's Start!!!"
      ]
    },
    {
      "cell_type": "markdown",
      "metadata": {
        "id": "4iG2hy3yrfhv",
        "colab_type": "text"
      },
      "source": [
        "### **Why Do You Need Time Series Models?**\n",
        "You would like to model stock prices correctly, so as a stock buyer you can reasonably decide when to buy stocks and when to sell them to make a profit. \n",
        "\n",
        "This is where time series modelling comes in. You need a robust model that can look at the history of a sequence of data and correctly predict what the future elements of the sequence are going to be.\n",
        "\n",
        "Using machine learning techniques, we will try to achieve this, develop and test the model in the upcoming sections.\n",
        "\n",
        "Warning: Stock market prices are highly unpredictable and volatile. This means that there are no consistent patterns in the data that allow you to model stock prices over time near-perfectly. Don't take it from me, take it from Princeton University economist Burton Malkiel, who argues in his 1973 book, \"A Random Walk Down Wall Street,\" that if the market is truly efficient and a share price reflects all factors immediately as soon as they're made public, a blindfolded monkey throwing darts at a newspaper stock listing should do as well as any investment professional.\n",
        "\n",
        "However, let's not go all the way believing that this is just a stochastic or random process and that there is no hope for machine learning. Let's see if you can at least model the data, so that the predictions you make correlate with the actual behavior of the data. In other words, you don't need the exact stock values of the future, but the stock price movements (that is, if it is going to rise of fall in the near future)"
      ]
    },
    {
      "cell_type": "markdown",
      "metadata": {
        "id": "QdCCgMjXtW8T",
        "colab_type": "text"
      },
      "source": [
        "**Importing libraries**"
      ]
    },
    {
      "cell_type": "code",
      "metadata": {
        "id": "rooWxotBtARv",
        "colab_type": "code",
        "colab": {
          "base_uri": "https://localhost:8080/",
          "height": 63
        },
        "outputId": "36aed08a-f56d-4de3-9e9a-fc3d5681d9ee"
      },
      "source": [
        "# Make sure that you have all these libaries available to run the code successfully\n",
        "\n",
        "from pandas_datareader import data\n",
        "import matplotlib.pyplot as plt\n",
        "import pandas as pd\n",
        "import datetime as dt\n",
        "import urllib.request, json\n",
        "import os\n",
        "import numpy as np\n",
        "import tensorflow as tf # This code has been tested with TensorFlow 1.6\n",
        "from sklearn.preprocessing import MinMaxScaler"
      ],
      "execution_count": 1,
      "outputs": [
        {
          "output_type": "display_data",
          "data": {
            "text/html": [
              "<p style=\"color: red;\">\n",
              "The default version of TensorFlow in Colab will soon switch to TensorFlow 2.x.<br>\n",
              "We recommend you <a href=\"https://www.tensorflow.org/guide/migrate\" target=\"_blank\">upgrade</a> now \n",
              "or ensure your notebook will continue to use TensorFlow 1.x via the <code>%tensorflow_version 1.x</code> magic:\n",
              "<a href=\"https://colab.research.google.com/notebooks/tensorflow_version.ipynb\" target=\"_blank\">more info</a>.</p>\n"
            ],
            "text/plain": [
              "<IPython.core.display.HTML object>"
            ]
          },
          "metadata": {
            "tags": []
          }
        }
      ]
    },
    {
      "cell_type": "markdown",
      "metadata": {
        "id": "xgD-Nzj1zlTd",
        "colab_type": "text"
      },
      "source": [
        "### **Downloading the Data**\n",
        "You will be using data from the following sources:\n",
        "\n",
        "1. **Alpha Vantage:** Before you start, however, you will first need an API key, which you can obtain for free [here](https://www.alphavantage.co/support/#api-key). After that, you can assign that key to the api_key variable.\n",
        "\n",
        "2. **Kaggle:** Download the kaggle data from this [page](https://www.kaggle.com/borismarjanovic/price-volume-data-for-all-us-stocks-etfs). You will need to copy the Stocks folder in the zip file of your project home folder."
      ]
    },
    {
      "cell_type": "code",
      "metadata": {
        "id": "nW6-eVbKtdzm",
        "colab_type": "code",
        "colab": {}
      },
      "source": [
        "# Please change this with your own api key\n",
        "my_key = '4TZ6V9EQSE010E4M'"
      ],
      "execution_count": 0,
      "outputs": []
    },
    {
      "cell_type": "markdown",
      "metadata": {
        "id": "Bdodj1Tw0iKh",
        "colab_type": "text"
      },
      "source": [
        "Before we go ahead and start downloading the Stock prices data, you need to know that stock prices data usually come in several following categories:\n",
        "\n",
        "- Open: Opening stock price of the day\n",
        "- Close: Closing stock price of the day\n",
        "- High: Highest stock price of the data\n",
        "- Low: Lowest stock price of the day\n"
      ]
    },
    {
      "cell_type": "markdown",
      "metadata": {
        "id": "W54frQP306l-",
        "colab_type": "text"
      },
      "source": [
        "**1. Getting Data from Alphavantage**\n",
        "\n",
        "You will first load in the data from Alpha Vantage. \n",
        "1. Since you're going to make use of the American Airlines Stock market prices to make your predictions, you set the ticker to \"AAL\".\n",
        "2. Additionally, you also define a url_string, which will return a JSON file with all the stock market data for American Airlines within the last 20 years, and a file_to_save, which will be the file to which you save the data.\n",
        "3. You'll use the ticker variable that you defined beforehand to help name this file.\n",
        "\n",
        "Next, you're going to specify a condition: if you haven't already saved data, you will go ahead and grab the data from the URL that you set in url_string; You'll store the date, low, high, volume, close, open values to a pandas DataFrame df and you'll save it to file_to_save. However, if the data is already there, you'll just load it from the CSV."
      ]
    },
    {
      "cell_type": "markdown",
      "metadata": {
        "id": "8VI5ROkF14pO",
        "colab_type": "text"
      },
      "source": [
        "**2. Getting Data from Kaggle**\n",
        "\n",
        "Data found on Kaggle is a collection of processed csv files and you don't have to do any preprocessing from you end, so you can directly load the data into a Pandas DataFrame and use it.\n",
        "\n"
      ]
    },
    {
      "cell_type": "code",
      "metadata": {
        "id": "AYcafpFL2gyQ",
        "colab_type": "code",
        "colab": {
          "base_uri": "https://localhost:8080/",
          "height": 233
        },
        "outputId": "49a831f5-8a1c-4f82-eca9-31b254b61e51"
      },
      "source": [
        "def download_data(data_source='kaggle', ticker= 'AAL'):\n",
        "  \n",
        "    if data_source=='AlphaVanatage':\n",
        "\n",
        "          # ====================== Loading Data from Alpha Vantage ==================================\n",
        "          api_key = my_key\n",
        "\n",
        "          # JSON file with all the stock market data for AAL from the last 20 years\n",
        "          url_string = \"https://www.alphavantage.co/query?function=TIME_SERIES_DAILY&symbol=%s&outputsize=full&apikey=%s\"%(ticker,api_key)\n",
        "\n",
        "          # file to Save the data\n",
        "          file_to_save = 'stock_market_data-%s.csv'%ticker\n",
        "          \n",
        "          # If you haven't already saved data,\n",
        "          if  os.path.exists(file_to_save):\n",
        "\n",
        "              print(\"Downloading data from AphaVantage......\")\n",
        "              # Go ahead and grab the data from the url\n",
        "              with urllib.request.urlopen(url_string) as url:\n",
        "                    data = json.loads(url.read().decode())\n",
        "\n",
        "                    # Extracting daily time series data of stock into a dictionary with keys as DateTime and values as resepective stock price\n",
        "                    data = data['Time Series (Daily)']     \n",
        "\n",
        "                    # Create empty dataframe to store Data\n",
        "                    stock_df = pd.DataFrame(columns=['Date','Low','High','Open', 'Close'])\n",
        "\n",
        "                    # And storing date, low, high, volume, close, open values from dictionary to a Pandas DataFrame\n",
        "                    for k,v in data.items():\n",
        "                          # Extracting and Converting date into suitable date time format\n",
        "                          \n",
        "                          key = dt.datetime.strptime(k, '%Y-%m-%d')\n",
        "                          # and stock values\n",
        "                          values = [key.date(),float(v['3. low']),float(v['2. high']),float(v['1. open']), float(v['4. close'])]\n",
        "\n",
        "                          # print(key,values)\n",
        "\n",
        "                          # Storing the data values in our empty dataframe one by one \n",
        "                          stock_df = stock_df.append({ 'Date': values[0], 'Low':values[1], 'High':values[2], 'Open':values[3], 'Close': values[4] }, ignore_index= True )\n",
        "\n",
        "                    print('Data saved to : %s'%file_to_save) \n",
        "                    stock_df.to_csv(file_to_save) \n",
        "\n",
        "          \n",
        "          \n",
        "          # If the data is already there, just load it from the CSV\n",
        "          else:\n",
        "              print('File already exists. Loading data from CSV')\n",
        "              stock_df = pd.read_csv(file_to_save)\n",
        "    \n",
        "\n",
        "  \n",
        "\n",
        "    elif data_source=='Kaggle':\n",
        "\n",
        "        # ====================== Loading Data from Kaggle ==================================  \n",
        "        # You will be using HP's data. Feel free to experiment with other data.\n",
        "        stock_df = pd.read_csv(os.path.join('Stocks','hpq.us.txt'),delimiter=',',usecols=['Date','Open','High','Low','Close'])\n",
        "        # But while doing so, be careful to have a large enough dataset and also pay attention to the data normalization\n",
        "        print('Loaded data from the Kaggle repository')\n",
        "\n",
        "      \n",
        "\n",
        "    \n",
        "    else:\n",
        "        print(\"Invalid Data Source\")\n",
        "    \n",
        "    \n",
        "    return stock_df\n",
        "\n",
        "\n",
        "\n",
        "# ;et's Call the function and store the dataframe\n",
        "stock_df = download_data(data_source='AlphaVanatage', ticker= 'AAL')\n",
        "\n",
        "# printing top 5 rows of dataframe\n",
        "stock_df.head()"
      ],
      "execution_count": 60,
      "outputs": [
        {
          "output_type": "stream",
          "text": [
            "Downloading data from AphaVantage......\n",
            "Data saved to : stock_market_data-AAL.csv\n"
          ],
          "name": "stdout"
        },
        {
          "output_type": "execute_result",
          "data": {
            "text/html": [
              "<div>\n",
              "<style scoped>\n",
              "    .dataframe tbody tr th:only-of-type {\n",
              "        vertical-align: middle;\n",
              "    }\n",
              "\n",
              "    .dataframe tbody tr th {\n",
              "        vertical-align: top;\n",
              "    }\n",
              "\n",
              "    .dataframe thead th {\n",
              "        text-align: right;\n",
              "    }\n",
              "</style>\n",
              "<table border=\"1\" class=\"dataframe\">\n",
              "  <thead>\n",
              "    <tr style=\"text-align: right;\">\n",
              "      <th></th>\n",
              "      <th>Date</th>\n",
              "      <th>Low</th>\n",
              "      <th>High</th>\n",
              "      <th>Open</th>\n",
              "      <th>Close</th>\n",
              "    </tr>\n",
              "  </thead>\n",
              "  <tbody>\n",
              "    <tr>\n",
              "      <th>0</th>\n",
              "      <td>2020-01-28</td>\n",
              "      <td>26.26</td>\n",
              "      <td>27.1150</td>\n",
              "      <td>26.36</td>\n",
              "      <td>26.90</td>\n",
              "    </tr>\n",
              "    <tr>\n",
              "      <th>1</th>\n",
              "      <td>2020-01-27</td>\n",
              "      <td>25.37</td>\n",
              "      <td>26.6000</td>\n",
              "      <td>26.57</td>\n",
              "      <td>26.11</td>\n",
              "    </tr>\n",
              "    <tr>\n",
              "      <th>2</th>\n",
              "      <td>2020-01-24</td>\n",
              "      <td>27.01</td>\n",
              "      <td>28.8612</td>\n",
              "      <td>28.85</td>\n",
              "      <td>27.64</td>\n",
              "    </tr>\n",
              "    <tr>\n",
              "      <th>3</th>\n",
              "      <td>2020-01-23</td>\n",
              "      <td>26.04</td>\n",
              "      <td>28.9900</td>\n",
              "      <td>27.39</td>\n",
              "      <td>28.80</td>\n",
              "    </tr>\n",
              "    <tr>\n",
              "      <th>4</th>\n",
              "      <td>2020-01-22</td>\n",
              "      <td>27.30</td>\n",
              "      <td>27.9100</td>\n",
              "      <td>27.51</td>\n",
              "      <td>27.32</td>\n",
              "    </tr>\n",
              "  </tbody>\n",
              "</table>\n",
              "</div>"
            ],
            "text/plain": [
              "         Date    Low     High   Open  Close\n",
              "0  2020-01-28  26.26  27.1150  26.36  26.90\n",
              "1  2020-01-27  25.37  26.6000  26.57  26.11\n",
              "2  2020-01-24  27.01  28.8612  28.85  27.64\n",
              "3  2020-01-23  26.04  28.9900  27.39  28.80\n",
              "4  2020-01-22  27.30  27.9100  27.51  27.32"
            ]
          },
          "metadata": {
            "tags": []
          },
          "execution_count": 60
        }
      ]
    },
    {
      "cell_type": "code",
      "metadata": {
        "id": "kyNBh4Hb42Sk",
        "colab_type": "code",
        "colab": {
          "base_uri": "https://localhost:8080/",
          "height": 194
        },
        "outputId": "9e04347b-0724-46ba-aa2b-cc8de168bf4d"
      },
      "source": [
        "stock_df.info()"
      ],
      "execution_count": 64,
      "outputs": [
        {
          "output_type": "stream",
          "text": [
            "<class 'pandas.core.frame.DataFrame'>\n",
            "RangeIndex: 3608 entries, 0 to 3607\n",
            "Data columns (total 5 columns):\n",
            "Date     3608 non-null object\n",
            "Low      3608 non-null float64\n",
            "High     3608 non-null float64\n",
            "Open     3608 non-null float64\n",
            "Close    3608 non-null float64\n",
            "dtypes: float64(4), object(1)\n",
            "memory usage: 141.1+ KB\n"
          ],
          "name": "stdout"
        }
      ]
    },
    {
      "cell_type": "code",
      "metadata": {
        "id": "mH4w_V64433N",
        "colab_type": "code",
        "colab": {}
      },
      "source": [
        ""
      ],
      "execution_count": 0,
      "outputs": []
    },
    {
      "cell_type": "code",
      "metadata": {
        "id": "CO63p_TM44bD",
        "colab_type": "code",
        "colab": {}
      },
      "source": [
        ""
      ],
      "execution_count": 0,
      "outputs": []
    },
    {
      "cell_type": "code",
      "metadata": {
        "id": "yF88KFQJ_J1R",
        "colab_type": "code",
        "colab": {}
      },
      "source": [
        ""
      ],
      "execution_count": 0,
      "outputs": []
    }
  ]
}